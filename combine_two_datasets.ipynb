{
 "cells": [
  {
   "cell_type": "code",
   "execution_count": null,
   "id": "transparent-portland",
   "metadata": {},
   "outputs": [],
   "source": [
    "import sys\n",
    "import subprocess\n",
    "\n",
    "#import pkg_resources\n",
    "#required = {'harmonypy','sklearn','scanpy','pandas', 'numpy', 'bbknn', 'scipy', 'matplotlib', 'seaborn' ,'scipy'}\n",
    "#installed = {pkg.key for pkg in pkg_resources.working_set}\n",
    "#missing = required - installed\n",
    "#if missing:\n",
    "#    print(\"Installing missing packages:\" )\n",
    "#    print(missing)\n",
    "#    python = sys.executable\n",
    "#    subprocess.check_call([python, '-m', 'pip', 'install', *missing], stdout=subprocess.DEVNULL)\n",
    "\n",
    "%matplotlib inline\n",
    "from collections import Counter\n",
    "from collections import defaultdict\n",
    "import scanpy as sc\n",
    "import pandas as pd\n",
    "import pickle as pkl\n",
    "import numpy as np\n",
    "import scipy\n",
    "import matplotlib.pyplot as plt\n",
    "import re\n",
    "import glob\n",
    "import os\n",
    "import sys\n",
    "from geosketch import gs\n",
    "from numpy import cov\n",
    "import scipy.cluster.hierarchy as spc\n",
    "import seaborn as sns; sns.set(color_codes=True)\n",
    "from sklearn.linear_model import LogisticRegression\n",
    "import sklearn\n",
    "import harmonypy as hm\n",
    "from pathlib import Path\n",
    "\n",
    "sc.settings.verbosity = 3  # verbosity: errors (0), warnings (1), info (2), hints (3)\n",
    "sc.settings.set_figure_params(dpi=80, color_map='viridis')"
   ]
  },
  {
   "cell_type": "code",
   "execution_count": 2,
   "id": "unusual-equation",
   "metadata": {},
   "outputs": [],
   "source": [
    "# Introduce variables\n",
    "# Note that this script expects raw data to be in \"non-batch-corrected\" adata.raw.X. \n",
    "\n",
    "save_path = '/Users/emilyjones/Desktop/HCA/project/script templates/mouse/mouse_exp1_exp2_concat.h5ad'\n",
    "\n",
    "# Required: Name of first object\n",
    "data1 = \"/Users/emilyjones/Desktop/HCA/project/ex_mat/exp_1_ortholog_deleted_rows.csv\"\n",
    "# Provide path to obj1 // landscape/training data\n",
    "Object1 = \"/Users/emilyjones/Desktop/HCA/project/script templates/experiment_1.h5ad\"\n",
    "\n",
    "# Required: Name of second object\n",
    "data2 = \"/Users/emilyjones/Desktop/HCA/project/ex_mat/exp_2_ortholog_deleted_rows.csv\"\n",
    "# Provide path to obj2 // prediction/projection data\n",
    "Object2 = \"/Users/emilyjones/Desktop/HCA/project/script templates/experiment_2.h5ad\"\n",
    "\n",
    "# Optional: Batch correction options (this is for correction of eventual combined dataset for data1 and data2\n",
    "batch_correction = True\n",
    "batch = [\"batch_id\",\"batch_id\",] # Will accept any batch categorical. Comma space a batch categorical for each dataset. Position 1 is for data1, position 2 is for data2"
   ]
  },
  {
   "cell_type": "code",
   "execution_count": 3,
   "id": "institutional-experience",
   "metadata": {},
   "outputs": [
    {
     "name": "stdout",
     "output_type": "stream",
     "text": [
      "adata file paths detetcted, proceeding to load\n",
      "CPU times: user 124 ms, sys: 29.9 ms, total: 154 ms\n",
      "Wall time: 205 ms\n"
     ]
    },
    {
     "data": {
      "text/plain": [
       "<scanpy._settings.ScanpyConfig at 0x7fb97605d0d0>"
      ]
     },
     "execution_count": 3,
     "metadata": {},
     "output_type": "execute_result"
    }
   ],
   "source": [
    "%%time\n",
    "# Check if filepaths are good\n",
    "if not os.path.exists(save_path):\n",
    "    os.makedirs(save_path)\n",
    "    \n",
    "if (Path(Object1).is_file() & Path(Object2).is_file()):\n",
    "    print(\"adata file paths detetcted, proceeding to load\")\n",
    "    adata = sc.read(Object1)\n",
    "    adata2 =  sc.read(Object2)\n",
    "    del adata.uns\n",
    "    del adata2.uns\n",
    "else: \n",
    "    raise TypeError(\"one or more .h5ad paths cannot be accessed\")\n",
    "\n",
    "# altering scanpy setting so that we can save it to our defined directory\n",
    "sc._settings.ScanpyConfig(figdir=save_path)\n",
    "\n",
    "# Combine and pre-process data to match correlations across PCA"
   ]
  },
  {
   "cell_type": "code",
   "execution_count": 21,
   "id": "1d61fb0c-9ce9-4bc8-8366-dbceefdc1d22",
   "metadata": {},
   "outputs": [
    {
     "data": {
      "text/plain": [
       "(20, 10957)"
      ]
     },
     "execution_count": 21,
     "metadata": {},
     "output_type": "execute_result"
    }
   ],
   "source": [
    "adata.shape"
   ]
  },
  {
   "cell_type": "code",
   "execution_count": 6,
   "id": "40a0b0dd-c7e8-4450-967d-6c82f2bd5e41",
   "metadata": {},
   "outputs": [
    {
     "data": {
      "text/plain": [
       "(8, 10957)"
      ]
     },
     "execution_count": 6,
     "metadata": {},
     "output_type": "execute_result"
    }
   ],
   "source": [
    "adata2.shape"
   ]
  },
  {
   "cell_type": "code",
   "execution_count": 7,
   "id": "forbidden-monkey",
   "metadata": {},
   "outputs": [
    {
     "data": {
      "text/plain": [
       "Index(['CCR1_R1_', 'CCR1_R2_', 'CCR1_R3_', 'CCR2_R1_', 'CCR2_R2_', 'CCR2_R3_',\n",
       "       'CCR5_R1_', 'CCR5_R2_', 'CCR5_R3_', 'NO_CCR_R1_', 'NO_CCR_R2_',\n",
       "       'NO_CCR_R3_'],\n",
       "      dtype='object', name='index')"
      ]
     },
     "execution_count": 7,
     "metadata": {},
     "output_type": "execute_result"
    }
   ],
   "source": [
    "adata.obs.index + '_'"
   ]
  },
  {
   "cell_type": "code",
   "execution_count": 8,
   "id": "a6e1ba61-7575-4a03-9539-930ba6183329",
   "metadata": {},
   "outputs": [
    {
     "data": {
      "text/plain": [
       "Index(['CCR1_R1_', 'CCR1_R2_', 'CCR1_R3_', 'CCR1_R4_', 'CCR2_R1_', 'CCR2_R2_',\n",
       "       'CCR2_R3_', 'CCR2_R4_'],\n",
       "      dtype='object', name='index')"
      ]
     },
     "execution_count": 8,
     "metadata": {},
     "output_type": "execute_result"
    }
   ],
   "source": [
    "adata2.obs.index + '_'"
   ]
  },
  {
   "cell_type": "code",
   "execution_count": 9,
   "id": "opposed-middle",
   "metadata": {},
   "outputs": [
    {
     "name": "stderr",
     "output_type": "stream",
     "text": [
      "<ipython-input-9-6a93cb8b77ef>:4: FutureWarning: The default value of regex will change from True to False in a future version.\n",
      "  adata.obs['batch_id'] = adata.obs.index.str.replace('_R.*_exp_1', '')\n"
     ]
    }
   ],
   "source": [
    "adata.obs['celltype'] = 'macropahge'\n",
    "adata.obs['id'] =  adata.obs.index + '_' + adata.obs['celltype']\n",
    "adata.obs.index = adata.obs.index + '_' + adata.obs['experiment_id'].astype(str)\n",
    "adata.obs['batch_id'] = adata.obs.index.str.replace('_R.*_exp_1', '')\n",
    "adata.obs['batch_id'] = adata.obs['batch_id'].astype(str) + '_' + adata.obs['experiment_id'].astype(str)"
   ]
  },
  {
   "cell_type": "code",
   "execution_count": 10,
   "id": "b66dd751-00d5-41a9-acb5-93a1289d6572",
   "metadata": {
    "tags": []
   },
   "outputs": [
    {
     "data": {
      "text/html": [
       "<div>\n",
       "<style scoped>\n",
       "    .dataframe tbody tr th:only-of-type {\n",
       "        vertical-align: middle;\n",
       "    }\n",
       "\n",
       "    .dataframe tbody tr th {\n",
       "        vertical-align: top;\n",
       "    }\n",
       "\n",
       "    .dataframe thead th {\n",
       "        text-align: right;\n",
       "    }\n",
       "</style>\n",
       "<table border=\"1\" class=\"dataframe\">\n",
       "  <thead>\n",
       "    <tr style=\"text-align: right;\">\n",
       "      <th></th>\n",
       "      <th>experiment_id</th>\n",
       "      <th>celltype</th>\n",
       "      <th>id</th>\n",
       "      <th>batch_id</th>\n",
       "    </tr>\n",
       "  </thead>\n",
       "  <tbody>\n",
       "    <tr>\n",
       "      <th>CCR1_R1_exp_1</th>\n",
       "      <td>exp_1</td>\n",
       "      <td>macropahge</td>\n",
       "      <td>CCR1_R1_macropahge</td>\n",
       "      <td>CCR1_exp_1</td>\n",
       "    </tr>\n",
       "    <tr>\n",
       "      <th>CCR1_R2_exp_1</th>\n",
       "      <td>exp_1</td>\n",
       "      <td>macropahge</td>\n",
       "      <td>CCR1_R2_macropahge</td>\n",
       "      <td>CCR1_exp_1</td>\n",
       "    </tr>\n",
       "    <tr>\n",
       "      <th>CCR1_R3_exp_1</th>\n",
       "      <td>exp_1</td>\n",
       "      <td>macropahge</td>\n",
       "      <td>CCR1_R3_macropahge</td>\n",
       "      <td>CCR1_exp_1</td>\n",
       "    </tr>\n",
       "    <tr>\n",
       "      <th>CCR2_R1_exp_1</th>\n",
       "      <td>exp_1</td>\n",
       "      <td>macropahge</td>\n",
       "      <td>CCR2_R1_macropahge</td>\n",
       "      <td>CCR2_exp_1</td>\n",
       "    </tr>\n",
       "    <tr>\n",
       "      <th>CCR2_R2_exp_1</th>\n",
       "      <td>exp_1</td>\n",
       "      <td>macropahge</td>\n",
       "      <td>CCR2_R2_macropahge</td>\n",
       "      <td>CCR2_exp_1</td>\n",
       "    </tr>\n",
       "    <tr>\n",
       "      <th>CCR2_R3_exp_1</th>\n",
       "      <td>exp_1</td>\n",
       "      <td>macropahge</td>\n",
       "      <td>CCR2_R3_macropahge</td>\n",
       "      <td>CCR2_exp_1</td>\n",
       "    </tr>\n",
       "    <tr>\n",
       "      <th>CCR5_R1_exp_1</th>\n",
       "      <td>exp_1</td>\n",
       "      <td>macropahge</td>\n",
       "      <td>CCR5_R1_macropahge</td>\n",
       "      <td>CCR5_exp_1</td>\n",
       "    </tr>\n",
       "    <tr>\n",
       "      <th>CCR5_R2_exp_1</th>\n",
       "      <td>exp_1</td>\n",
       "      <td>macropahge</td>\n",
       "      <td>CCR5_R2_macropahge</td>\n",
       "      <td>CCR5_exp_1</td>\n",
       "    </tr>\n",
       "    <tr>\n",
       "      <th>CCR5_R3_exp_1</th>\n",
       "      <td>exp_1</td>\n",
       "      <td>macropahge</td>\n",
       "      <td>CCR5_R3_macropahge</td>\n",
       "      <td>CCR5_exp_1</td>\n",
       "    </tr>\n",
       "    <tr>\n",
       "      <th>NO_CCR_R1_exp_1</th>\n",
       "      <td>exp_1</td>\n",
       "      <td>macropahge</td>\n",
       "      <td>NO_CCR_R1_macropahge</td>\n",
       "      <td>NO_CCR_exp_1</td>\n",
       "    </tr>\n",
       "    <tr>\n",
       "      <th>NO_CCR_R2_exp_1</th>\n",
       "      <td>exp_1</td>\n",
       "      <td>macropahge</td>\n",
       "      <td>NO_CCR_R2_macropahge</td>\n",
       "      <td>NO_CCR_exp_1</td>\n",
       "    </tr>\n",
       "    <tr>\n",
       "      <th>NO_CCR_R3_exp_1</th>\n",
       "      <td>exp_1</td>\n",
       "      <td>macropahge</td>\n",
       "      <td>NO_CCR_R3_macropahge</td>\n",
       "      <td>NO_CCR_exp_1</td>\n",
       "    </tr>\n",
       "  </tbody>\n",
       "</table>\n",
       "</div>"
      ],
      "text/plain": [
       "                experiment_id    celltype                    id      batch_id\n",
       "CCR1_R1_exp_1           exp_1  macropahge    CCR1_R1_macropahge    CCR1_exp_1\n",
       "CCR1_R2_exp_1           exp_1  macropahge    CCR1_R2_macropahge    CCR1_exp_1\n",
       "CCR1_R3_exp_1           exp_1  macropahge    CCR1_R3_macropahge    CCR1_exp_1\n",
       "CCR2_R1_exp_1           exp_1  macropahge    CCR2_R1_macropahge    CCR2_exp_1\n",
       "CCR2_R2_exp_1           exp_1  macropahge    CCR2_R2_macropahge    CCR2_exp_1\n",
       "CCR2_R3_exp_1           exp_1  macropahge    CCR2_R3_macropahge    CCR2_exp_1\n",
       "CCR5_R1_exp_1           exp_1  macropahge    CCR5_R1_macropahge    CCR5_exp_1\n",
       "CCR5_R2_exp_1           exp_1  macropahge    CCR5_R2_macropahge    CCR5_exp_1\n",
       "CCR5_R3_exp_1           exp_1  macropahge    CCR5_R3_macropahge    CCR5_exp_1\n",
       "NO_CCR_R1_exp_1         exp_1  macropahge  NO_CCR_R1_macropahge  NO_CCR_exp_1\n",
       "NO_CCR_R2_exp_1         exp_1  macropahge  NO_CCR_R2_macropahge  NO_CCR_exp_1\n",
       "NO_CCR_R3_exp_1         exp_1  macropahge  NO_CCR_R3_macropahge  NO_CCR_exp_1"
      ]
     },
     "execution_count": 10,
     "metadata": {},
     "output_type": "execute_result"
    }
   ],
   "source": [
    "adata.obs"
   ]
  },
  {
   "cell_type": "code",
   "execution_count": 11,
   "id": "integrated-durham",
   "metadata": {},
   "outputs": [
    {
     "name": "stderr",
     "output_type": "stream",
     "text": [
      "<ipython-input-11-8cdfc5ff7a7f>:4: FutureWarning: The default value of regex will change from True to False in a future version.\n",
      "  adata2.obs['batch_id'] = adata2.obs.index.str.replace('_R.*_exp_2', '')\n"
     ]
    }
   ],
   "source": [
    "adata2.obs['celltype'] = 'mono'\n",
    "adata2.obs['id'] =  adata2.obs.index + '_' + adata2.obs['celltype']\n",
    "adata2.obs.index = adata2.obs.index + '_' + adata2.obs['experiment_id'].astype(str)\n",
    "adata2.obs['batch_id'] = adata2.obs.index.str.replace('_R.*_exp_2', '')\n",
    "adata2.obs['batch_id'] = adata2.obs['batch_id'].astype(str) + '_' + adata2.obs['experiment_id'].astype(str)"
   ]
  },
  {
   "cell_type": "code",
   "execution_count": 12,
   "id": "42e6b6dd-d9a1-488f-99ce-20475881f792",
   "metadata": {},
   "outputs": [
    {
     "data": {
      "text/html": [
       "<div>\n",
       "<style scoped>\n",
       "    .dataframe tbody tr th:only-of-type {\n",
       "        vertical-align: middle;\n",
       "    }\n",
       "\n",
       "    .dataframe tbody tr th {\n",
       "        vertical-align: top;\n",
       "    }\n",
       "\n",
       "    .dataframe thead th {\n",
       "        text-align: right;\n",
       "    }\n",
       "</style>\n",
       "<table border=\"1\" class=\"dataframe\">\n",
       "  <thead>\n",
       "    <tr style=\"text-align: right;\">\n",
       "      <th></th>\n",
       "      <th>experiment_id</th>\n",
       "      <th>celltype</th>\n",
       "      <th>id</th>\n",
       "      <th>batch_id</th>\n",
       "    </tr>\n",
       "  </thead>\n",
       "  <tbody>\n",
       "    <tr>\n",
       "      <th>CCR1_R1_exp_2</th>\n",
       "      <td>exp_2</td>\n",
       "      <td>mono</td>\n",
       "      <td>CCR1_R1_mono</td>\n",
       "      <td>CCR1_exp_2</td>\n",
       "    </tr>\n",
       "    <tr>\n",
       "      <th>CCR1_R2_exp_2</th>\n",
       "      <td>exp_2</td>\n",
       "      <td>mono</td>\n",
       "      <td>CCR1_R2_mono</td>\n",
       "      <td>CCR1_exp_2</td>\n",
       "    </tr>\n",
       "    <tr>\n",
       "      <th>CCR1_R3_exp_2</th>\n",
       "      <td>exp_2</td>\n",
       "      <td>mono</td>\n",
       "      <td>CCR1_R3_mono</td>\n",
       "      <td>CCR1_exp_2</td>\n",
       "    </tr>\n",
       "    <tr>\n",
       "      <th>CCR1_R4_exp_2</th>\n",
       "      <td>exp_2</td>\n",
       "      <td>mono</td>\n",
       "      <td>CCR1_R4_mono</td>\n",
       "      <td>CCR1_exp_2</td>\n",
       "    </tr>\n",
       "    <tr>\n",
       "      <th>CCR2_R1_exp_2</th>\n",
       "      <td>exp_2</td>\n",
       "      <td>mono</td>\n",
       "      <td>CCR2_R1_mono</td>\n",
       "      <td>CCR2_exp_2</td>\n",
       "    </tr>\n",
       "    <tr>\n",
       "      <th>CCR2_R2_exp_2</th>\n",
       "      <td>exp_2</td>\n",
       "      <td>mono</td>\n",
       "      <td>CCR2_R2_mono</td>\n",
       "      <td>CCR2_exp_2</td>\n",
       "    </tr>\n",
       "    <tr>\n",
       "      <th>CCR2_R3_exp_2</th>\n",
       "      <td>exp_2</td>\n",
       "      <td>mono</td>\n",
       "      <td>CCR2_R3_mono</td>\n",
       "      <td>CCR2_exp_2</td>\n",
       "    </tr>\n",
       "    <tr>\n",
       "      <th>CCR2_R4_exp_2</th>\n",
       "      <td>exp_2</td>\n",
       "      <td>mono</td>\n",
       "      <td>CCR2_R4_mono</td>\n",
       "      <td>CCR2_exp_2</td>\n",
       "    </tr>\n",
       "  </tbody>\n",
       "</table>\n",
       "</div>"
      ],
      "text/plain": [
       "              experiment_id celltype            id    batch_id\n",
       "CCR1_R1_exp_2         exp_2     mono  CCR1_R1_mono  CCR1_exp_2\n",
       "CCR1_R2_exp_2         exp_2     mono  CCR1_R2_mono  CCR1_exp_2\n",
       "CCR1_R3_exp_2         exp_2     mono  CCR1_R3_mono  CCR1_exp_2\n",
       "CCR1_R4_exp_2         exp_2     mono  CCR1_R4_mono  CCR1_exp_2\n",
       "CCR2_R1_exp_2         exp_2     mono  CCR2_R1_mono  CCR2_exp_2\n",
       "CCR2_R2_exp_2         exp_2     mono  CCR2_R2_mono  CCR2_exp_2\n",
       "CCR2_R3_exp_2         exp_2     mono  CCR2_R3_mono  CCR2_exp_2\n",
       "CCR2_R4_exp_2         exp_2     mono  CCR2_R4_mono  CCR2_exp_2"
      ]
     },
     "execution_count": 12,
     "metadata": {},
     "output_type": "execute_result"
    }
   ],
   "source": [
    "adata2.obs"
   ]
  },
  {
   "cell_type": "code",
   "execution_count": 13,
   "id": "fixed-romance",
   "metadata": {},
   "outputs": [
    {
     "name": "stdout",
     "output_type": "stream",
     "text": [
      "keep gene list =  10957 adata1 gene length =  13665 adata2 gene length =  10957\n"
     ]
    }
   ],
   "source": [
    "# Define intersecting genes between datasets\n",
    "adata_genes = list(adata.var.index)\n",
    "adata2_genes = list(adata2.var.index)\n",
    "keep_SC_genes = list(set(adata_genes) & set(adata2_genes))\n",
    "print(\"keep gene list = \" , len(keep_SC_genes), \"adata1 gene length = \", len(adata_genes) , \"adata2 gene length = \", len(adata2_genes) )\n",
    "\n",
    "# Remove non-intersecting genes (this step will remove cite-seq data if training data is pure RNA seq)\n",
    "adata_intersect1 = adata[:, keep_SC_genes]\n",
    "adata = adata_intersect1\n",
    "adata_intersect2 = adata2[:, keep_SC_genes]\n",
    "adata2 = adata_intersect2"
   ]
  },
  {
   "cell_type": "code",
   "execution_count": 14,
   "id": "emotional-simpson",
   "metadata": {},
   "outputs": [
    {
     "name": "stderr",
     "output_type": "stream",
     "text": [
      "Trying to set attribute `.obs` of view, copying.\n",
      "Trying to set attribute `.obs` of view, copying.\n"
     ]
    },
    {
     "name": "stdout",
     "output_type": "stream",
     "text": [
      "Batch correction option detected, proceeding to format batch variables\n"
     ]
    }
   ],
   "source": [
    "# Create a common batch column and do simple sanity check for batch variables\n",
    "if not((batch_correction == \"False\") and (len(batch)>1)):\n",
    "    print(\"Batch correction option detected, proceeding to format batch variables\")\n",
    "    batch_var = \"lr_batch\"\n",
    "    adata.obs[\"lr_batch\"] = adata.obs[batch[0]]\n",
    "    adata2.obs[\"lr_batch\"] = adata2.obs[batch[1]]\n",
    "else: raise TypeError(\"Batch correction option detected but requires at least one categorical for each dataset!\")\n",
    "\n",
    "# Create a common obs column in both datasets containing the data origin tag\n",
    "common_cat = \"corr_concat\" \n",
    "adata.obs = adata.obs.astype('category')\n",
    "adata2.obs = adata2.obs.astype('category')\n",
    "concat = adata2.concatenate(adata, join='inner',index_unique=None, batch_categories=None)\n",
    "adata = concat[:]"
   ]
  },
  {
   "cell_type": "code",
   "execution_count": 15,
   "id": "opponent-hollow",
   "metadata": {},
   "outputs": [
    {
     "name": "stderr",
     "output_type": "stream",
     "text": [
      "/Applications/anaconda3/envs/python_env/lib/python3.9/site-packages/anndata/_core/anndata.py:1220: FutureWarning: The `inplace` parameter in pandas.Categorical.reorder_categories is deprecated and will be removed in a future version. Removing unused categories will always return a new Categorical object.\n",
      "  c.reorder_categories(natsorted(c.categories), inplace=True)\n",
      "/Applications/anaconda3/envs/python_env/lib/python3.9/site-packages/anndata/_core/anndata.py:1228: ImplicitModificationWarning: Initializing view as actual.\n",
      "  warnings.warn(\n",
      "Trying to set attribute `.obs` of view, copying.\n",
      "... storing 'experiment_id' as categorical\n",
      "/Applications/anaconda3/envs/python_env/lib/python3.9/site-packages/anndata/_core/anndata.py:1220: FutureWarning: The `inplace` parameter in pandas.Categorical.reorder_categories is deprecated and will be removed in a future version. Removing unused categories will always return a new Categorical object.\n",
      "  c.reorder_categories(natsorted(c.categories), inplace=True)\n",
      "Trying to set attribute `.obs` of view, copying.\n",
      "... storing 'celltype' as categorical\n",
      "/Applications/anaconda3/envs/python_env/lib/python3.9/site-packages/anndata/_core/anndata.py:1220: FutureWarning: The `inplace` parameter in pandas.Categorical.reorder_categories is deprecated and will be removed in a future version. Removing unused categories will always return a new Categorical object.\n",
      "  c.reorder_categories(natsorted(c.categories), inplace=True)\n",
      "Trying to set attribute `.obs` of view, copying.\n",
      "... storing 'batch_id' as categorical\n",
      "/Applications/anaconda3/envs/python_env/lib/python3.9/site-packages/anndata/_core/anndata.py:1220: FutureWarning: The `inplace` parameter in pandas.Categorical.reorder_categories is deprecated and will be removed in a future version. Removing unused categories will always return a new Categorical object.\n",
      "  c.reorder_categories(natsorted(c.categories), inplace=True)\n",
      "Trying to set attribute `.obs` of view, copying.\n",
      "... storing 'lr_batch' as categorical\n"
     ]
    }
   ],
   "source": [
    "adata.write(save_path)"
   ]
  },
  {
   "cell_type": "code",
   "execution_count": 16,
   "id": "c22b6cc5-ed6d-4690-a90c-96aa75953a93",
   "metadata": {},
   "outputs": [
    {
     "data": {
      "text/html": [
       "<div>\n",
       "<style scoped>\n",
       "    .dataframe tbody tr th:only-of-type {\n",
       "        vertical-align: middle;\n",
       "    }\n",
       "\n",
       "    .dataframe tbody tr th {\n",
       "        vertical-align: top;\n",
       "    }\n",
       "\n",
       "    .dataframe thead th {\n",
       "        text-align: right;\n",
       "    }\n",
       "</style>\n",
       "<table border=\"1\" class=\"dataframe\">\n",
       "  <thead>\n",
       "    <tr style=\"text-align: right;\">\n",
       "      <th></th>\n",
       "      <th>experiment_id</th>\n",
       "      <th>celltype</th>\n",
       "      <th>id</th>\n",
       "      <th>batch_id</th>\n",
       "      <th>lr_batch</th>\n",
       "      <th>batch</th>\n",
       "    </tr>\n",
       "  </thead>\n",
       "  <tbody>\n",
       "    <tr>\n",
       "      <th>CCR1_R1_exp_2</th>\n",
       "      <td>exp_2</td>\n",
       "      <td>mono</td>\n",
       "      <td>CCR1_R1_mono</td>\n",
       "      <td>CCR1_exp_2</td>\n",
       "      <td>CCR1_exp_2</td>\n",
       "      <td>0</td>\n",
       "    </tr>\n",
       "    <tr>\n",
       "      <th>CCR1_R2_exp_2</th>\n",
       "      <td>exp_2</td>\n",
       "      <td>mono</td>\n",
       "      <td>CCR1_R2_mono</td>\n",
       "      <td>CCR1_exp_2</td>\n",
       "      <td>CCR1_exp_2</td>\n",
       "      <td>0</td>\n",
       "    </tr>\n",
       "    <tr>\n",
       "      <th>CCR1_R3_exp_2</th>\n",
       "      <td>exp_2</td>\n",
       "      <td>mono</td>\n",
       "      <td>CCR1_R3_mono</td>\n",
       "      <td>CCR1_exp_2</td>\n",
       "      <td>CCR1_exp_2</td>\n",
       "      <td>0</td>\n",
       "    </tr>\n",
       "    <tr>\n",
       "      <th>CCR1_R4_exp_2</th>\n",
       "      <td>exp_2</td>\n",
       "      <td>mono</td>\n",
       "      <td>CCR1_R4_mono</td>\n",
       "      <td>CCR1_exp_2</td>\n",
       "      <td>CCR1_exp_2</td>\n",
       "      <td>0</td>\n",
       "    </tr>\n",
       "    <tr>\n",
       "      <th>CCR2_R1_exp_2</th>\n",
       "      <td>exp_2</td>\n",
       "      <td>mono</td>\n",
       "      <td>CCR2_R1_mono</td>\n",
       "      <td>CCR2_exp_2</td>\n",
       "      <td>CCR2_exp_2</td>\n",
       "      <td>0</td>\n",
       "    </tr>\n",
       "    <tr>\n",
       "      <th>CCR2_R2_exp_2</th>\n",
       "      <td>exp_2</td>\n",
       "      <td>mono</td>\n",
       "      <td>CCR2_R2_mono</td>\n",
       "      <td>CCR2_exp_2</td>\n",
       "      <td>CCR2_exp_2</td>\n",
       "      <td>0</td>\n",
       "    </tr>\n",
       "    <tr>\n",
       "      <th>CCR2_R3_exp_2</th>\n",
       "      <td>exp_2</td>\n",
       "      <td>mono</td>\n",
       "      <td>CCR2_R3_mono</td>\n",
       "      <td>CCR2_exp_2</td>\n",
       "      <td>CCR2_exp_2</td>\n",
       "      <td>0</td>\n",
       "    </tr>\n",
       "    <tr>\n",
       "      <th>CCR2_R4_exp_2</th>\n",
       "      <td>exp_2</td>\n",
       "      <td>mono</td>\n",
       "      <td>CCR2_R4_mono</td>\n",
       "      <td>CCR2_exp_2</td>\n",
       "      <td>CCR2_exp_2</td>\n",
       "      <td>0</td>\n",
       "    </tr>\n",
       "    <tr>\n",
       "      <th>CCR1_R1_exp_1</th>\n",
       "      <td>exp_1</td>\n",
       "      <td>macropahge</td>\n",
       "      <td>CCR1_R1_macropahge</td>\n",
       "      <td>CCR1_exp_1</td>\n",
       "      <td>CCR1_exp_1</td>\n",
       "      <td>1</td>\n",
       "    </tr>\n",
       "    <tr>\n",
       "      <th>CCR1_R2_exp_1</th>\n",
       "      <td>exp_1</td>\n",
       "      <td>macropahge</td>\n",
       "      <td>CCR1_R2_macropahge</td>\n",
       "      <td>CCR1_exp_1</td>\n",
       "      <td>CCR1_exp_1</td>\n",
       "      <td>1</td>\n",
       "    </tr>\n",
       "    <tr>\n",
       "      <th>CCR1_R3_exp_1</th>\n",
       "      <td>exp_1</td>\n",
       "      <td>macropahge</td>\n",
       "      <td>CCR1_R3_macropahge</td>\n",
       "      <td>CCR1_exp_1</td>\n",
       "      <td>CCR1_exp_1</td>\n",
       "      <td>1</td>\n",
       "    </tr>\n",
       "    <tr>\n",
       "      <th>CCR2_R1_exp_1</th>\n",
       "      <td>exp_1</td>\n",
       "      <td>macropahge</td>\n",
       "      <td>CCR2_R1_macropahge</td>\n",
       "      <td>CCR2_exp_1</td>\n",
       "      <td>CCR2_exp_1</td>\n",
       "      <td>1</td>\n",
       "    </tr>\n",
       "    <tr>\n",
       "      <th>CCR2_R2_exp_1</th>\n",
       "      <td>exp_1</td>\n",
       "      <td>macropahge</td>\n",
       "      <td>CCR2_R2_macropahge</td>\n",
       "      <td>CCR2_exp_1</td>\n",
       "      <td>CCR2_exp_1</td>\n",
       "      <td>1</td>\n",
       "    </tr>\n",
       "    <tr>\n",
       "      <th>CCR2_R3_exp_1</th>\n",
       "      <td>exp_1</td>\n",
       "      <td>macropahge</td>\n",
       "      <td>CCR2_R3_macropahge</td>\n",
       "      <td>CCR2_exp_1</td>\n",
       "      <td>CCR2_exp_1</td>\n",
       "      <td>1</td>\n",
       "    </tr>\n",
       "    <tr>\n",
       "      <th>CCR5_R1_exp_1</th>\n",
       "      <td>exp_1</td>\n",
       "      <td>macropahge</td>\n",
       "      <td>CCR5_R1_macropahge</td>\n",
       "      <td>CCR5_exp_1</td>\n",
       "      <td>CCR5_exp_1</td>\n",
       "      <td>1</td>\n",
       "    </tr>\n",
       "    <tr>\n",
       "      <th>CCR5_R2_exp_1</th>\n",
       "      <td>exp_1</td>\n",
       "      <td>macropahge</td>\n",
       "      <td>CCR5_R2_macropahge</td>\n",
       "      <td>CCR5_exp_1</td>\n",
       "      <td>CCR5_exp_1</td>\n",
       "      <td>1</td>\n",
       "    </tr>\n",
       "    <tr>\n",
       "      <th>CCR5_R3_exp_1</th>\n",
       "      <td>exp_1</td>\n",
       "      <td>macropahge</td>\n",
       "      <td>CCR5_R3_macropahge</td>\n",
       "      <td>CCR5_exp_1</td>\n",
       "      <td>CCR5_exp_1</td>\n",
       "      <td>1</td>\n",
       "    </tr>\n",
       "    <tr>\n",
       "      <th>NO_CCR_R1_exp_1</th>\n",
       "      <td>exp_1</td>\n",
       "      <td>macropahge</td>\n",
       "      <td>NO_CCR_R1_macropahge</td>\n",
       "      <td>NO_CCR_exp_1</td>\n",
       "      <td>NO_CCR_exp_1</td>\n",
       "      <td>1</td>\n",
       "    </tr>\n",
       "    <tr>\n",
       "      <th>NO_CCR_R2_exp_1</th>\n",
       "      <td>exp_1</td>\n",
       "      <td>macropahge</td>\n",
       "      <td>NO_CCR_R2_macropahge</td>\n",
       "      <td>NO_CCR_exp_1</td>\n",
       "      <td>NO_CCR_exp_1</td>\n",
       "      <td>1</td>\n",
       "    </tr>\n",
       "    <tr>\n",
       "      <th>NO_CCR_R3_exp_1</th>\n",
       "      <td>exp_1</td>\n",
       "      <td>macropahge</td>\n",
       "      <td>NO_CCR_R3_macropahge</td>\n",
       "      <td>NO_CCR_exp_1</td>\n",
       "      <td>NO_CCR_exp_1</td>\n",
       "      <td>1</td>\n",
       "    </tr>\n",
       "  </tbody>\n",
       "</table>\n",
       "</div>"
      ],
      "text/plain": [
       "                experiment_id    celltype                    id      batch_id  \\\n",
       "CCR1_R1_exp_2           exp_2        mono          CCR1_R1_mono    CCR1_exp_2   \n",
       "CCR1_R2_exp_2           exp_2        mono          CCR1_R2_mono    CCR1_exp_2   \n",
       "CCR1_R3_exp_2           exp_2        mono          CCR1_R3_mono    CCR1_exp_2   \n",
       "CCR1_R4_exp_2           exp_2        mono          CCR1_R4_mono    CCR1_exp_2   \n",
       "CCR2_R1_exp_2           exp_2        mono          CCR2_R1_mono    CCR2_exp_2   \n",
       "CCR2_R2_exp_2           exp_2        mono          CCR2_R2_mono    CCR2_exp_2   \n",
       "CCR2_R3_exp_2           exp_2        mono          CCR2_R3_mono    CCR2_exp_2   \n",
       "CCR2_R4_exp_2           exp_2        mono          CCR2_R4_mono    CCR2_exp_2   \n",
       "CCR1_R1_exp_1           exp_1  macropahge    CCR1_R1_macropahge    CCR1_exp_1   \n",
       "CCR1_R2_exp_1           exp_1  macropahge    CCR1_R2_macropahge    CCR1_exp_1   \n",
       "CCR1_R3_exp_1           exp_1  macropahge    CCR1_R3_macropahge    CCR1_exp_1   \n",
       "CCR2_R1_exp_1           exp_1  macropahge    CCR2_R1_macropahge    CCR2_exp_1   \n",
       "CCR2_R2_exp_1           exp_1  macropahge    CCR2_R2_macropahge    CCR2_exp_1   \n",
       "CCR2_R3_exp_1           exp_1  macropahge    CCR2_R3_macropahge    CCR2_exp_1   \n",
       "CCR5_R1_exp_1           exp_1  macropahge    CCR5_R1_macropahge    CCR5_exp_1   \n",
       "CCR5_R2_exp_1           exp_1  macropahge    CCR5_R2_macropahge    CCR5_exp_1   \n",
       "CCR5_R3_exp_1           exp_1  macropahge    CCR5_R3_macropahge    CCR5_exp_1   \n",
       "NO_CCR_R1_exp_1         exp_1  macropahge  NO_CCR_R1_macropahge  NO_CCR_exp_1   \n",
       "NO_CCR_R2_exp_1         exp_1  macropahge  NO_CCR_R2_macropahge  NO_CCR_exp_1   \n",
       "NO_CCR_R3_exp_1         exp_1  macropahge  NO_CCR_R3_macropahge  NO_CCR_exp_1   \n",
       "\n",
       "                     lr_batch batch  \n",
       "CCR1_R1_exp_2      CCR1_exp_2     0  \n",
       "CCR1_R2_exp_2      CCR1_exp_2     0  \n",
       "CCR1_R3_exp_2      CCR1_exp_2     0  \n",
       "CCR1_R4_exp_2      CCR1_exp_2     0  \n",
       "CCR2_R1_exp_2      CCR2_exp_2     0  \n",
       "CCR2_R2_exp_2      CCR2_exp_2     0  \n",
       "CCR2_R3_exp_2      CCR2_exp_2     0  \n",
       "CCR2_R4_exp_2      CCR2_exp_2     0  \n",
       "CCR1_R1_exp_1      CCR1_exp_1     1  \n",
       "CCR1_R2_exp_1      CCR1_exp_1     1  \n",
       "CCR1_R3_exp_1      CCR1_exp_1     1  \n",
       "CCR2_R1_exp_1      CCR2_exp_1     1  \n",
       "CCR2_R2_exp_1      CCR2_exp_1     1  \n",
       "CCR2_R3_exp_1      CCR2_exp_1     1  \n",
       "CCR5_R1_exp_1      CCR5_exp_1     1  \n",
       "CCR5_R2_exp_1      CCR5_exp_1     1  \n",
       "CCR5_R3_exp_1      CCR5_exp_1     1  \n",
       "NO_CCR_R1_exp_1  NO_CCR_exp_1     1  \n",
       "NO_CCR_R2_exp_1  NO_CCR_exp_1     1  \n",
       "NO_CCR_R3_exp_1  NO_CCR_exp_1     1  "
      ]
     },
     "execution_count": 16,
     "metadata": {},
     "output_type": "execute_result"
    }
   ],
   "source": [
    "adata.obs"
   ]
  },
  {
   "cell_type": "code",
   "execution_count": 18,
   "id": "6278f0fd-0a1b-44b2-b894-40102daab627",
   "metadata": {},
   "outputs": [
    {
     "data": {
      "text/plain": [
       "(20, 10957)"
      ]
     },
     "execution_count": 18,
     "metadata": {},
     "output_type": "execute_result"
    }
   ],
   "source": [
    "adata.shape"
   ]
  },
  {
   "cell_type": "code",
   "execution_count": null,
   "id": "919a7bc2-c0ce-4cdf-93d1-70004f6d2ef1",
   "metadata": {},
   "outputs": [],
   "source": []
  }
 ],
 "metadata": {
  "kernelspec": {
   "display_name": "python_env",
   "language": "python",
   "name": "python_env"
  },
  "language_info": {
   "codemirror_mode": {
    "name": "ipython",
    "version": 3
   },
   "file_extension": ".py",
   "mimetype": "text/x-python",
   "name": "python",
   "nbconvert_exporter": "python",
   "pygments_lexer": "ipython3",
   "version": "3.9.5"
  }
 },
 "nbformat": 4,
 "nbformat_minor": 5
}
